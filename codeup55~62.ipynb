{
  "nbformat": 4,
  "nbformat_minor": 0,
  "metadata": {
    "colab": {
      "name": "codeup55~62.ipynb",
      "provenance": [],
      "authorship_tag": "ABX9TyOEMqvq+QtjDbD0MnWA0qfU",
      "include_colab_link": true
    },
    "kernelspec": {
      "name": "python3",
      "display_name": "Python 3"
    },
    "language_info": {
      "name": "python"
    }
  },
  "cells": [
    {
      "cell_type": "markdown",
      "metadata": {
        "id": "view-in-github",
        "colab_type": "text"
      },
      "source": [
        "<a href=\"https://colab.research.google.com/github/choeuneheol/test1/blob/main/codeup55~62.ipynb\" target=\"_parent\"><img src=\"https://colab.research.google.com/assets/colab-badge.svg\" alt=\"Open In Colab\"/></a>"
      ]
    },
    {
      "cell_type": "markdown",
      "source": [
        "#6056 : [기초-논리연산] 참/거짓이 서로 다를 때에만 참 출력하기\n",
        "\n",
        "2개의 정수값이 입력될 때,\n",
        "그 불 값(True/False) 이 서로 다를 때에만 True 를 출력하는 프로그램을 작성해보자.\n",
        "\n",
        "예시\n",
        "...\n",
        "c = bool(int(a))\n",
        "d = bool(int(b))\n",
        "print((c and (not d)) or ((not c) and d))\n",
        "\n",
        "참고\n",
        "참 거짓이 서로 다를 때에만 True 로 계산하는 논리연산을 XOR(exclusive or, 배타적 논리합) 연산이라고도 부른다.\n",
        "\n",
        "논리연산자는 사칙(+, -, *, /) 연산자와 마찬가지로 여러 번 중복해서 사용할 수 있는데, \n",
        "사칙 연산자와 마찬가지로 계산 순서를 표시하기 위해 괄호 ( )를 사용할 수 있다.\n",
        "괄호를 사용하면 계산 순서를 명확하게 표현할 수 있다.\n",
        "\n",
        "수학 식에서는 소괄호 (), 중괄호 {}, 대괄호 []를 사용하기도 하지만, 프로그래밍언어에서는 소괄호 ( ) 만 사용한다.\n",
        "\n",
        "** 불 대수(boolean algebra)는 수학자 불이 만들어낸 것으로 True(참)/False(거짓) 값만 가지는 논리값과 그 값들 사이의 연산을 다룬다."
      ],
      "metadata": {
        "id": "_bHhNojy9DUR"
      }
    },
    {
      "cell_type": "code",
      "source": [
        "#내가 생각한 답안\n",
        "a, b=input().split()\n",
        "\n",
        "a =bool(int(a))\n",
        "b =bool(int(b))\n",
        "print((a and(not b)) or ((not a)and b))"
      ],
      "metadata": {
        "colab": {
          "base_uri": "https://localhost:8080/"
        },
        "id": "UdxjmzS5--aD",
        "outputId": "26c98ac8-7450-4ee8-a43a-f4ff6b046837"
      },
      "execution_count": 1,
      "outputs": [
        {
          "output_type": "stream",
          "name": "stdout",
          "text": [
            "1 1\n",
            "False\n"
          ]
        }
      ]
    },
    {
      "cell_type": "markdown",
      "source": [
        "#6057 : [기초-논리연산] 참/거짓이 서로 같을 때에만 참 출력하기\n",
        "\n",
        "2개의 정수값이 입력될 때,\n",
        "그 불 값(True/False) 이 서로 같을 때에만 True 를 출력하는 프로그램을 작성해보자."
      ],
      "metadata": {
        "id": "3eSFngqtAaZa"
      }
    },
    {
      "cell_type": "code",
      "source": [
        "# 내가 작성한 답안\n",
        "a, b=input().split()\n",
        "\n",
        "a =int(a)\n",
        "b =int(b)\n",
        "print(a==b)"
      ],
      "metadata": {
        "colab": {
          "base_uri": "https://localhost:8080/"
        },
        "id": "5ww_z0UaA2kR",
        "outputId": "806b7f55-3fec-46be-b644-8a14b4253449"
      },
      "execution_count": 8,
      "outputs": [
        {
          "output_type": "stream",
          "name": "stdout",
          "text": [
            "1 2\n",
            "False\n"
          ]
        }
      ]
    },
    {
      "cell_type": "markdown",
      "source": [
        "# 6058 : [기초-논리연산] 둘다 거짓일 경우만 참 출력하기\n",
        "\n",
        "2개의 정수값이 입력될 때,\n",
        "그 불 값(True/False) 이 모두 False 일 때에만 True 를 출력하는 프로그램을 작성해보자.\n",
        "\n"
      ],
      "metadata": {
        "id": "TCS692geBW5E"
      }
    },
    {
      "cell_type": "code",
      "source": [
        "#내가 작성한 답안\n",
        "a, b = input().split()\n",
        "\n",
        "a =int(a)\n",
        "b =int(b)\n",
        "print(not(a==b))\n",
        "\n",
        "#답안\n",
        "a, b = input().split()\n",
        "c= bool(int(a))\n",
        "d= bool(int(b))\n",
        "\n",
        "print( not (c or d) )"
      ],
      "metadata": {
        "colab": {
          "base_uri": "https://localhost:8080/"
        },
        "id": "JM31mUGzCG0G",
        "outputId": "99cf6a99-353d-40e3-b6f7-4b332643a6fa"
      },
      "execution_count": 11,
      "outputs": [
        {
          "output_type": "stream",
          "name": "stdout",
          "text": [
            "1 1\n",
            "False\n"
          ]
        }
      ]
    },
    {
      "cell_type": "markdown",
      "source": [
        "#6059 : [기초-비트단위논리연산] 비트단위로 NOT 하여 출력하기\n",
        "\n",
        "입력 된 정수를 비트단위로 참/거짓을 바꾼 후 정수로 출력해보자.\n",
        "비트단위(bitwise)연산자 ~ 를 붙이면 된다.(~ : tilde, 틸드라고 읽는다.)\n",
        "\n",
        "** 비트단위(bitwise) 연산자는,\n",
        "~(bitwise not), &(bitwise and), |(bitwise or), ^(bitwise xor),\n",
        "<<(bitwise left shift), >>(bitwise right shift)\n",
        "가 있다.\n",
        "\n",
        "예를 들어 1이 입력되었을 때 저장되는 1을 32비트 2진수로 표현하면\n",
        "        00000000 00000000 00000000 00000001 이고,\n",
        "~1은 11111111 11111111 11111111 11111110 가 되는데 이는 -2를 의미한다.\n",
        "\n",
        "예시\n",
        "a = 1\n",
        "print(~a) #-2가 출력된다.\n",
        "\n",
        "참고\n",
        "컴퓨터에 저장되는 모든 데이터들은 2진수 형태로 바뀌어 저장된다.\n",
        "0과 1로만 구성되는 비트단위들로 변환되어 저장되는데,\n",
        "양의 정수는 2진수 형태로 바뀌어 저장되고, 음의 정수는 \"2의 보수 표현\"방법으로 저장된다.\n",
        "\n",
        "양의 정수 5를 32비트로 저장하면, \n",
        "\n",
        "5의 2진수 형태인 101이 32비트로 만들어져\n",
        "00000000 00000000 00000000 00000101\n",
        "로 저장된다.(공백은 보기 편하도록 임의로 분리)\n",
        "\n",
        "32비트 형의 정수 0은\n",
        "00000000 00000000 00000000 00000000\n",
        "\n",
        "그리고 -1은 0에서 1을 더 빼고 32비트만 표시하는 형태로\n",
        "11111111 11111111 11111111 11111111 로 저장된다.\n",
        "\n",
        "-2는 -1에서 1을 더 빼면 된다.\n",
        "11111111 11111111 11111111 11111110 로 저장된다.\n",
        "\n",
        "이러한 내용을 간단히 표현하면, 정수 n이라고 할 때,\n",
        "\n",
        "~n = -n - 1\n",
        "-n = ~n + 1 과 같은 관계로 표현할 수 있다.\n",
        "\n",
        "이 관계를 그림으로 그려보면 마치 원형으로 수들이 상대적으로 배치된 것과 같다."
      ],
      "metadata": {
        "id": "dPT5DCaSPY0r"
      }
    },
    {
      "cell_type": "code",
      "source": [
        "# #내가 작성한 답안\n",
        "a = 2\n",
        "print(~a)\n",
        "\n",
        "#답안\n",
        "a=int(input())\n",
        "print(~a)"
      ],
      "metadata": {
        "colab": {
          "base_uri": "https://localhost:8080/"
        },
        "id": "0OwSxIyDQoU7",
        "outputId": "f9945646-56c1-4055-f7fc-c711cc2816fe"
      },
      "execution_count": 15,
      "outputs": [
        {
          "output_type": "stream",
          "name": "stdout",
          "text": [
            "2\n",
            "-3\n"
          ]
        }
      ]
    },
    {
      "cell_type": "markdown",
      "source": [
        "#6060 : [기초-비트단위논리연산] 비트단위로 AND 하여 출력하기\n",
        "\n",
        "** 비트단위(bitwise)연산자는,\n",
        "~(bitwise not), &(bitwise and), |(bitwise or), ^(bitwise xor),\n",
        "<<(bitwise left shift), >>(bitwise right shift)\n",
        "가 있다.\n",
        "\n",
        "예를 들어 3과 5가 입력되었을 때를 살펴보면\n",
        "3       : 00000000 00000000 00000000 00000011\n",
        "5       : 00000000 00000000 00000000 00000101\n",
        "3 & 5 : 00000000 00000000 00000000 00000001\n",
        "이 된다.\n",
        "\n",
        "비트단위 and 연산은 두 비트열이 주어졌을 때,\n",
        "둘 다 1인 부분의 자리만 1로 만들어주는 것과 같다.\n",
        "ㅁ\n",
        "이 연산을 이용하면 어떤 비트열의 특정 부분만 모두 0으로도 만들 수 있는데\n",
        "192.168.0.31   : 11000000.10101000.00000000.00011111\n",
        "255.255.255.0 : 11111111.11111111.11111111.00000000\n",
        "\n",
        "두 개의 ip 주소를 & 연산하면\n",
        "192.168.0.0 :     110000000.10101000.0000000.00000000 을 계산할 수 있다.\n",
        "\n",
        "실제로 이 계산은 네트워크에 연결되어 있는 두 개의 컴퓨터가 데이터를 주고받기 위해\n",
        "같은 네트워크에 있는지 아닌지를 판단하는데 사용된다.\n",
        "\n",
        "이러한 비트단위 연산은 빠른 계산이 필요한 그래픽처리에서\n",
        "마스크연산(특정 부분을 가리고 출력하는)을 수행하는 데에도 효과적으로 사용된다."
      ],
      "metadata": {
        "id": "YbAriYMGRq4b"
      }
    },
    {
      "cell_type": "code",
      "source": [
        "#내가 작성한 답안\n",
        "a, b=input().split()\n",
        "a = int()\n",
        "b = int()\n",
        "print(~a, ~b)\n",
        "\n",
        "#답안\n",
        "a, b = input().split()\n",
        "print(int(a) & int(b))"
      ],
      "metadata": {
        "colab": {
          "base_uri": "https://localhost:8080/"
        },
        "id": "sh_iUUtnTPSI",
        "outputId": "f711d8fa-da89-4668-e53e-450d63c6a4d5"
      },
      "execution_count": 17,
      "outputs": [
        {
          "output_type": "stream",
          "name": "stdout",
          "text": [
            "3 5\n",
            "-1 -1\n"
          ]
        }
      ]
    },
    {
      "cell_type": "markdown",
      "source": [
        "#6061 : [기초-비트단위논리연산] 비트단위로 OR 하여 출력하기\n",
        "\n",
        "입력된 정수 두 개를 비트단위로 or 연산한 후 그 결과를 정수로 출력해보자.\n",
        "비트단위(bitwise) 연산자 |(or, vertical bar, 버티컬바)를 사용하면 된다.\n",
        "\n",
        "** | 은 파이프(pipe)연산자라고도 불리는 경우가 있다.\n",
        "\n",
        "** 비트단위(bitwise) 연산자는,\n",
        "~(bitwise not), &(bitwise and), |(bitwise or), ^(bitwise xor),\n",
        "<<(bitwise left shift), >>(bitwise right shift)\n",
        "가 있다.\n",
        "\n",
        "예를 들어 3과 5가 입력되었을 때를 살펴보면\n",
        "3      : 00000000 00000000 00000000 00000011\n",
        "5      : 00000000 00000000 00000000 00000101\n",
        "3 | 5 : 00000000 00000000 00000000 00000111\n",
        "이 된다.\n",
        "\n",
        "비트단위 or 연산은 둘 중 하나라도 1인 자리를 1로 만들어주는 것과 같다.\n",
        "\n",
        "이러한 비트단위 연산은 빠른 계산이 필요한 그래픽처리에서도 효과적으로 사용된다.\n"
      ],
      "metadata": {
        "id": "mCcWVQzTTwD1"
      }
    },
    {
      "cell_type": "code",
      "source": [
        "# 내가 생각한 답안\n",
        "a, b =input().split()\n",
        "\n",
        "a = int(~a)\n",
        "b = int(~b)\n",
        "print(~a,~b)\n",
        "\n",
        "#답안\n",
        "a, b =input().split()\n",
        "print(int(a) | int(b))"
      ],
      "metadata": {
        "colab": {
          "base_uri": "https://localhost:8080/"
        },
        "id": "RPQzawGVUxgy",
        "outputId": "4a33225e-8162-4103-d7c8-dd53c40bddf6"
      },
      "execution_count": 23,
      "outputs": [
        {
          "output_type": "stream",
          "name": "stdout",
          "text": [
            "3 5\n",
            "-4 -6\n",
            "3 5\n",
            "7\n"
          ]
        }
      ]
    },
    {
      "cell_type": "markdown",
      "source": [
        "#6062:[기초-비트단위논리연산] 비트단위로 XOR 하여 출력하기\n",
        "\n",
        "** 주의 ^은 수학식에서 거듭제곱(power)을 나타내는 기호와 모양은 같지만,\n",
        "C언어에서는 전혀 다른 배타적 논리합(xor, 서로 다를 때 1)의 의미를 가진다.\n",
        "\n",
        "** 비트단위(bitwise) 연산자는,\n",
        "~(bitwise not), &(bitwise and), |(bitwise or), ^(bitwise xor),\n",
        "<<(bitwise left shift), >>(bitwise right shift)\n",
        "가 있다.\n",
        "\n",
        "예를 들어 3과 5가 입력되었을 때를 살펴보면\n",
        "3       : 00000000 00000000 00000000 00000011\n",
        "5       : 00000000 00000000 00000000 00000101\n",
        "3 ^ 5 : 00000000 00000000 00000000 00000110\n",
        "이 된다.\n",
        "이러한 비트단위 연산은 빠른 계산이 필요한 그래픽처리에서도 효과적으로 사용된다.\n",
        "\n",
        "구체적으로 설명하자면,\n",
        "두 장의 이미지가 겹쳐졌을 때 색이 서로 다른 부분만 처리할 수 있다.\n",
        "배경이 되는 그림과 배경 위에서 움직이는 그림이 있을 때,\n",
        "두 그림에서 차이만 골라내 배경 위에서 움직이는 그림의 색으로 바꿔주면\n",
        "전체 그림을 구성하는 모든 점들의 색을 다시 계산해 입히지 않고\n",
        "보다 효과적으로 그림을 처리할 수 있게 되는 것이다.\n",
        "비행기 슈팅게임 등을 상상해보면 된다."
      ],
      "metadata": {
        "id": "9ymRKq2WofYR"
      }
    },
    {
      "cell_type": "code",
      "source": [
        "# 내가 작성한 답안\n",
        "a, b =input().split()\n",
        "print(int(a) ^ int(b))"
      ],
      "metadata": {
        "colab": {
          "base_uri": "https://localhost:8080/"
        },
        "id": "-H1KvITQuOHW",
        "outputId": "5786f99d-503a-433a-a74d-e7d37b17e76f"
      },
      "execution_count": 25,
      "outputs": [
        {
          "output_type": "stream",
          "name": "stdout",
          "text": [
            "3 5\n",
            "6\n"
          ]
        }
      ]
    },
    {
      "cell_type": "code",
      "source": [
        "\n"
      ],
      "metadata": {
        "id": "ecsi0ysCuY-H"
      },
      "execution_count": null,
      "outputs": []
    }
  ]
}