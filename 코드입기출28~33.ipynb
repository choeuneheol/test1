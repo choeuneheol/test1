{
  "nbformat": 4,
  "nbformat_minor": 0,
  "metadata": {
    "colab": {
      "name": "코드입기출28~33.ipynb",
      "provenance": [],
      "authorship_tag": "ABX9TyP6u+62TNnO+FS6y9+MMpKv",
      "include_colab_link": true
    },
    "kernelspec": {
      "name": "python3",
      "display_name": "Python 3"
    },
    "language_info": {
      "name": "python"
    }
  },
  "cells": [
    {
      "cell_type": "markdown",
      "metadata": {
        "id": "view-in-github",
        "colab_type": "text"
      },
      "source": [
        "<a href=\"https://colab.research.google.com/github/choeuneheol/test1/blob/main/%EC%BD%94%EB%93%9C%EC%9E%85%EA%B8%B0%EC%B6%9C28~33.ipynb\" target=\"_parent\"><img src=\"https://colab.research.google.com/assets/colab-badge.svg\" alt=\"Open In Colab\"/></a>"
      ]
    },
    {
      "cell_type": "markdown",
      "source": [
        "6028:[기초-출력변환]  10진 정수 입력받아 16진수로 출력하기2\n",
        "10진수를 입력받아 16진수로 출력해보자\n",
        "\n",
        "print('%X'%n) #n에 저장되어있는 값을 16진수 대문자 형태 문자열로 출력\n",
        "\n",
        "참고 \n",
        "10진수 형태로 입력받고 \n",
        "\n",
        "%X로 출력하면 16진수대문자로 출력된다\n",
        "\n",
        "16진법은 영문 소문자를 사용하는 경우에 한 자리에 16개(0 1 2 3 4 5 6 7 8 9 A B C D E F)의 문자를 사용한다.\n",
        "\n",
        "16진수 A는 10진수의 10, B는 11, C는 12 ... 와 같다."
      ],
      "metadata": {
        "id": "OMut5OosTpnu"
      }
    },
    {
      "cell_type": "code",
      "source": [
        "a=input()\n",
        "n=int(a)\n",
        "print('%X'%n)"
      ],
      "metadata": {
        "colab": {
          "base_uri": "https://localhost:8080/"
        },
        "id": "QIu2rruPUMa1",
        "outputId": "ee52dd4a-f1c9-45f6-ad0f-fac7c6787b0f"
      },
      "execution_count": 1,
      "outputs": [
        {
          "output_type": "stream",
          "name": "stdout",
          "text": [
            "255\n",
            "FF\n"
          ]
        }
      ]
    },
    {
      "cell_type": "markdown",
      "source": [
        "6029:[기초-값변환] 16진 정수 입력받아 8진수로 출력하기\n",
        "16진수를 입력받아 8진수(octal)로 출력해보자.\n",
        "\n",
        "예시\n",
        "a = input()\n",
        "n = int(a, 16)      #입력된 a를 16진수로 인식해 변수 n에 저장\n",
        "\n",
        "print('%o' % n)  #n에 저장되어있는 값을 8진수(octal) 형태 문자열로 출력\n",
        "\n",
        "참고\n",
        "8진법은 한 자리에 8개(0 1 2 3 4 5 6 7)의 문자를 사용한다.\n",
        "\n",
        "8진수 10은 10진수의 8, 11은 9, 12는 10 ... 와 같다."
      ],
      "metadata": {
        "id": "PFQWyqRPUXXq"
      }
    },
    {
      "cell_type": "code",
      "source": [
        "a=input()\n",
        "n=int(a,16)\n",
        "print('%o'%n)"
      ],
      "metadata": {
        "colab": {
          "base_uri": "https://localhost:8080/"
        },
        "id": "5b0rlaDXUqHk",
        "outputId": "5d8a2966-0872-4538-c086-959ee02c7800"
      },
      "execution_count": 4,
      "outputs": [
        {
          "output_type": "stream",
          "name": "stdout",
          "text": [
            "f\n",
            "17\n"
          ]
        }
      ]
    },
    {
      "cell_type": "markdown",
      "source": [
        "6030\"[기초-값변환] 영문자 1개 입력받아 10진수로 변환하기\n",
        "\n",
        "영문자 1개를 입력받아 10진수 유니코드(Unicode) 값으로 출력해보자.\n",
        "\n",
        "예시\n",
        "n = ord(input())\n",
        "print(n)\n",
        "\n",
        "참고\n",
        "n = ord(input())  #입력받은 문자를 10진수 유니코드 값으로 변환한 후, n에 저장한다.\n",
        "\n",
        "ord( ) 는 어떤 문자의 순서 위치(ordinal position) 값을 의미한다.  \n",
        "실제로 각각의 문자들에는 연속된 정수 값이 순서에 따라 부여 되어 있다. A:65, B:66, C:67 .... \n",
        "ord(c) : 문자 c 를 10진수로 변환한 값 \n",
        "\n",
        "컴퓨터로 저장되고 처리되는 모든 데이터들은 2진수 형태로 정수화 되어야 하는데,\n",
        "컴퓨터에 문자를 저장하는 방법으로 아스키코드(ASCII Code)나 유니코드(Unicode)가 자주 사용된다.\n",
        "\n",
        "예를 들어, 영문 대문자 'A'는 10진수 값 65 로 표현하고, \n",
        "2진수(binary digit) 값 1000001 로 바꾸어 컴퓨터 내부에 저장한다. \n",
        "\n",
        "유니코드(unicode)는 세계 여러 나라의 문자를 공통된 코드 값으로 저장할 때 사용하는 표준 코드이다."
      ],
      "metadata": {
        "id": "t5MwF_aUU-AR"
      }
    },
    {
      "cell_type": "code",
      "source": [
        "n=ord(input())\n",
        "print(n)"
      ],
      "metadata": {
        "colab": {
          "base_uri": "https://localhost:8080/"
        },
        "id": "jG2xfix8Ws4x",
        "outputId": "b25cebde-87cd-4b65-90e7-10b466c4bd89"
      },
      "execution_count": 5,
      "outputs": [
        {
          "output_type": "stream",
          "name": "stdout",
          "text": [
            "A\n",
            "65\n"
          ]
        }
      ]
    },
    {
      "cell_type": "markdown",
      "source": [
        "6031:[기초-값변환] 정수 입력받아 유니코드 문자로 변환하기\n",
        "\n",
        "10진 정수 1개를 입력받아\n",
        "유니코드 문자로 출력해보자.\n",
        "\n",
        "\n",
        "예시\n",
        "c = int(input())\n",
        "print(chr(c))  #c에 저장되어 있는 정수 값을 유니코드 문자(chracter)로 바꿔 출력한다. \n",
        "\n",
        "\n",
        "참고\n",
        "입력은 기본적으로 모두 문자열로 입력되는 것이라고 할 수 있다. \n",
        "따라서, 입력 값이 문자/문자열/정수/실수인지에 따라서 먼저 정확하게 변환시킨 다음에 사용하거나 계산하는 것이 좋다.\n",
        "\n",
        "예를 들어 123 이 입력 되었다고 한다면, 이건 정수일까? 문자열일까?\n",
        "조금 생각해보면, 입력된 것만 보고는 그 값이 어떤 데이터인지 알 수 없다는 것을 쉽게 이해할 수 있다.\n",
        "따라서, 그 입력 값을 어떻게 해석하고 변환할 지에 대해서 명확하게 작성해 주어야 하는 것이다. \n",
        "\n",
        "chr( )는 정수값->문자, ord( )는 문자->정수값 형태로 바꿔주는 서로 반대 방향으로 바꾸어 주는 기능을 한다.\n",
        "\n",
        "입력\n",
        "10진 정수 1개(32 ~ 126 범위)가 입력된다.\n",
        "\n",
        "출력\n",
        "유니코드 문자로 출력한다.\n",
        "\n",
        " "
      ],
      "metadata": {
        "id": "SghFoEOWXGYx"
      }
    },
    {
      "cell_type": "code",
      "source": [
        "c=int(input())\n",
        "print(chr(c))"
      ],
      "metadata": {
        "colab": {
          "base_uri": "https://localhost:8080/"
        },
        "id": "zVexioCqXwff",
        "outputId": "61f15e6a-c8e4-4285-b621-e16c0696880a"
      },
      "execution_count": 6,
      "outputs": [
        {
          "output_type": "stream",
          "name": "stdout",
          "text": [
            "65\n",
            "A\n"
          ]
        }
      ]
    },
    {
      "cell_type": "markdown",
      "source": [
        "6032 : [기초-산술연산] 정수 1개 입력 받아 부호 바꾸기\n",
        "\n",
        "입력된 정수의 부호를 바꿔 출력해보자.\n",
        "\n",
        "\n",
        "예시 \n",
        "... \n",
        "print(-n) \n",
        "\n",
        "참고 \n",
        "단항(unary) 연산자인 -(negative)를 변수 앞에 붙이면 부호가 반대인 값이 된다. \n",
        "\n",
        "입력\n",
        "정수 1개가 입력된다.\n",
        "\n",
        "출력\n",
        "부호를 바꿔 출력한다."
      ],
      "metadata": {
        "id": "1jDJo3UnX59O"
      }
    },
    {
      "cell_type": "code",
      "source": [
        "s=int(input())\n",
        "print(-s)"
      ],
      "metadata": {
        "colab": {
          "base_uri": "https://localhost:8080/"
        },
        "id": "m-qxCLSoYX9D",
        "outputId": "f5be5103-3f7e-4cf6-ace4-c4a3806436b4"
      },
      "execution_count": 8,
      "outputs": [
        {
          "output_type": "stream",
          "name": "stdout",
          "text": [
            "1\n",
            "-1\n"
          ]
        }
      ]
    },
    {
      "cell_type": "markdown",
      "source": [
        "6033:[기초-산술연산] 문자 1개 입력받아 다음 문자 출력하기\n",
        "\n",
        "문자 1개를 입력받아 그 다음 문자를 출력해보자.\n",
        "영문자 'A'의 다음 문자는 'B'이고, 숫자 '0'의 다음 문자는 '1'이다.\n",
        "\n",
        "예시\n",
        "...\n",
        "print(chr(n+1))\n",
        "\n",
        "참고\n",
        "숫자는 수를 표현하는 문자로서 '0' 은 문자 그 자체를 의미하고, 0은 값을 의미한다.\n",
        "\n",
        "힌트\n",
        "아스키문자표에서 'A'는 10진수 65로 저장되고 'B'는 10진수 66으로 저장된다.\n",
        "따라서, 문자도 값으로 덧셈을 할 수 있다. 어떤 문자의 값에 1을 더하면 그 다음 문자의 값이 된다.\n",
        "\n",
        "\n",
        "입력\n",
        "문자 1개가 입력된다.\n",
        "\n",
        "출력\n",
        "그 다음 문자를 출력한다.\n",
        "\n"
      ],
      "metadata": {
        "id": "LbT4YxoiYbj3"
      }
    },
    {
      "cell_type": "code",
      "source": [
        "n=ord(input())\n",
        "print(chr(n+1))"
      ],
      "metadata": {
        "colab": {
          "base_uri": "https://localhost:8080/"
        },
        "id": "EDOrUG-Japrz",
        "outputId": "4ba5f6ec-3550-4808-bc5f-283007e97e1a"
      },
      "execution_count": 13,
      "outputs": [
        {
          "output_type": "stream",
          "name": "stdout",
          "text": [
            "2\n",
            "3\n"
          ]
        }
      ]
    },
    {
      "cell_type": "code",
      "source": [
        ""
      ],
      "metadata": {
        "id": "YdLHwFDEa3BL"
      },
      "execution_count": null,
      "outputs": []
    }
  ]
}