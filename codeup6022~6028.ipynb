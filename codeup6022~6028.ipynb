{
  "nbformat": 4,
  "nbformat_minor": 0,
  "metadata": {
    "colab": {
      "name": "codeup6022~6028.ipynb",
      "provenance": [],
      "authorship_tag": "ABX9TyPBdv4pBX4UgbWKITiLLFKN",
      "include_colab_link": true
    },
    "kernelspec": {
      "name": "python3",
      "display_name": "Python 3"
    },
    "language_info": {
      "name": "python"
    }
  },
  "cells": [
    {
      "cell_type": "markdown",
      "metadata": {
        "id": "view-in-github",
        "colab_type": "text"
      },
      "source": [
        "<a href=\"https://colab.research.google.com/github/choeuneheol/test1/blob/main/codeup6022~6028.ipynb\" target=\"_parent\"><img src=\"https://colab.research.google.com/assets/colab-badge.svg\" alt=\"Open In Colab\"/></a>"
      ]
    },
    {
      "cell_type": "markdown",
      "source": [
        "6022:[기초-입출력] 연월일 입력받아 나누어 출력하기"
      ],
      "metadata": {
        "id": "73IRNR_bP8dm"
      }
    },
    {
      "cell_type": "code",
      "execution_count": null,
      "metadata": {
        "id": "EOnsErHgP66n"
      },
      "outputs": [],
      "source": [
        "s = input()\n",
        "print(s[:2], s[2:4], s[4:6], sep=\" \")"
      ]
    },
    {
      "cell_type": "markdown",
      "source": [
        "6023:[기초-입출력] 시분초 입력받아 분만 출력하기"
      ],
      "metadata": {
        "id": "hgBFRbbdQBIj"
      }
    },
    {
      "cell_type": "code",
      "source": [
        "s=input()\n",
        "print(s[3:5])"
      ],
      "metadata": {
        "colab": {
          "base_uri": "https://localhost:8080/"
        },
        "id": "q8wq-MJ3QIIL",
        "outputId": "9ff2789b-b4ec-43ce-9e7d-7c2073fe4f74"
      },
      "execution_count": 2,
      "outputs": [
        {
          "output_type": "stream",
          "name": "stdout",
          "text": [
            "17:23:57\n",
            "23\n"
          ]
        }
      ]
    },
    {
      "cell_type": "code",
      "source": [
        "hh,mm,ss= input().split(':')\n",
        "print(mm)"
      ],
      "metadata": {
        "colab": {
          "base_uri": "https://localhost:8080/"
        },
        "id": "pEFkJbzmQ_b7",
        "outputId": "678a17d7-0f69-48e9-daa2-55d1063dd782"
      },
      "execution_count": 4,
      "outputs": [
        {
          "output_type": "stream",
          "name": "stdout",
          "text": [
            "17:53:20\n",
            "53\n"
          ]
        }
      ]
    },
    {
      "cell_type": "markdown",
      "source": [
        "6024:[기초-입출력] 단어 2개 입력받아 이어 붙이기"
      ],
      "metadata": {
        "id": "NuTyNPPDRag9"
      }
    },
    {
      "cell_type": "code",
      "source": [
        "w1,w2=input().split()\n",
        "s =w1+w2\n",
        "print(s)"
      ],
      "metadata": {
        "colab": {
          "base_uri": "https://localhost:8080/"
        },
        "id": "zpoQVwK2Shj9",
        "outputId": "c78fa315-93a2-4b06-cb97-3bc026d8c7e6"
      },
      "execution_count": 7,
      "outputs": [
        {
          "output_type": "stream",
          "name": "stdout",
          "text": [
            "hello world\n",
            "helloworld\n"
          ]
        }
      ]
    },
    {
      "cell_type": "markdown",
      "source": [
        "6025 : [기초-값변환] 정수 2개 입력받아 합 계산하기"
      ],
      "metadata": {
        "id": "bE84ej_Felhm"
      }
    },
    {
      "cell_type": "code",
      "source": [
        "a, b = input().split()\n",
        "c = int(a) + int(b)\n",
        "print(c)"
      ],
      "metadata": {
        "colab": {
          "base_uri": "https://localhost:8080/"
        },
        "id": "o1VCGeuiWgiL",
        "outputId": "5559d431-4aed-4e8d-bb84-296533f1b0b3"
      },
      "execution_count": 16,
      "outputs": [
        {
          "output_type": "stream",
          "name": "stdout",
          "text": [
            "123 -123\n",
            "0\n"
          ]
        }
      ]
    },
    {
      "cell_type": "markdown",
      "source": [
        "6026:[기초-값변환] 실수 2개 입력받아 합 계산하기"
      ],
      "metadata": {
        "id": "IqDaUqfvYA8i"
      }
    },
    {
      "cell_type": "code",
      "source": [
        "s=input()\n",
        "b=input()\n",
        "c= float(s) + float(b)\n",
        "print(c)"
      ],
      "metadata": {
        "colab": {
          "base_uri": "https://localhost:8080/"
        },
        "id": "n5zPYYqbdrX1",
        "outputId": "896fe26c-faaa-402b-a5dd-3465bd057596"
      },
      "execution_count": 18,
      "outputs": [
        {
          "output_type": "stream",
          "name": "stdout",
          "text": [
            "0.1\n",
            "0.9\n",
            "1.0\n"
          ]
        }
      ]
    },
    {
      "cell_type": "markdown",
      "source": [
        "6027:[기초-출력변환] 10진수 입력받아 16진수로 출력하기1"
      ],
      "metadata": {
        "id": "sCpVeBVsd8oy"
      }
    },
    {
      "cell_type": "code",
      "source": [
        "a = input()\n",
        "n = int(a)\n",
        "print('%x'%n)"
      ],
      "metadata": {
        "colab": {
          "base_uri": "https://localhost:8080/"
        },
        "id": "xrlyt6TvfIzy",
        "outputId": "3c798d93-30b2-4b07-ac3d-da9f9582801e"
      },
      "execution_count": 22,
      "outputs": [
        {
          "output_type": "stream",
          "name": "stdout",
          "text": [
            "300\n",
            "12c\n"
          ]
        }
      ]
    },
    {
      "cell_type": "markdown",
      "source": [
        "6028:[기초-출력변환] 10진 정수 입력받아 16진수로 출력하기2"
      ],
      "metadata": {
        "id": "yy82ci98fs9q"
      }
    },
    {
      "cell_type": "code",
      "source": [
        ""
      ],
      "metadata": {
        "id": "s4ThUckIgKeD"
      },
      "execution_count": null,
      "outputs": []
    }
  ]
}