{
  "nbformat": 4,
  "nbformat_minor": 0,
  "metadata": {
    "colab": {
      "name": "codeup34~44.ipynb",
      "provenance": [],
      "authorship_tag": "ABX9TyO9Pbrq1CfXJRp0Q/D/l0U9",
      "include_colab_link": true
    },
    "kernelspec": {
      "name": "python3",
      "display_name": "Python 3"
    },
    "language_info": {
      "name": "python"
    }
  },
  "cells": [
    {
      "cell_type": "markdown",
      "metadata": {
        "id": "view-in-github",
        "colab_type": "text"
      },
      "source": [
        "<a href=\"https://colab.research.google.com/github/choeuneheol/test1/blob/main/codeup34~44.ipynb\" target=\"_parent\"><img src=\"https://colab.research.google.com/assets/colab-badge.svg\" alt=\"Open In Colab\"/></a>"
      ]
    },
    {
      "cell_type": "markdown",
      "source": [
        "6034:[기초-산술연산] 정수 2개 입력받아 차 계산하기\n",
        "\n",
        "정수 2개(a, b)를 입력받아 a에서 b를 뺀 차를 출력하는 프로그램을 작성해보자.\n",
        "\n",
        "예시\n",
        "\n",
        "c = a - b\n",
        "\n",
        "print(c)\n",
        "\n",
        "참고\n",
        "\n",
        "수 - 수는 차(subtraction)가 계산된다.\n",
        " \n",
        "\n",
        "입력\n",
        "\n",
        "2개의 정수가 공백으로 구분되어 입력된다.\n",
        " \n",
        "\n",
        "출력\n",
        "\n",
        "첫 번째 정수에서 두 번째 정수를 뺀 차를 출력한다."
      ],
      "metadata": {
        "id": "ZVJ2LVbSa7aU"
      }
    },
    {
      "cell_type": "code",
      "source": [
        "a=int(input())\n",
        "b=int(input())\n",
        "c=a-b\n",
        "print(c)"
      ],
      "metadata": {
        "colab": {
          "base_uri": "https://localhost:8080/"
        },
        "id": "DX8qtmKHbWCt",
        "outputId": "f03958ff-e1ac-471f-fcb7-8d9fc6134865"
      },
      "execution_count": 2,
      "outputs": [
        {
          "output_type": "stream",
          "name": "stdout",
          "text": [
            "123\n",
            "123\n",
            "0\n"
          ]
        }
      ]
    },
    {
      "cell_type": "code",
      "source": [
        "a,b=input().split()\n",
        "c=int(a) - int(b)\n",
        "print(c)"
      ],
      "metadata": {
        "colab": {
          "base_uri": "https://localhost:8080/"
        },
        "id": "42qk_8onb05A",
        "outputId": "5ce5a3a0-8b43-43ef-e1e3-2a1a96f828d6"
      },
      "execution_count": 5,
      "outputs": [
        {
          "output_type": "stream",
          "name": "stdout",
          "text": [
            "123 -123\n",
            "246\n"
          ]
        }
      ]
    },
    {
      "cell_type": "markdown",
      "source": [
        "6035:[기초-산술연산] 실수 2개 입력받아 곱 계산하기\n",
        "\n",
        "실수 2개(f1, f2)를 입력받아 곱을 출력하는 프로그램을 작성해보자.\n",
        "\n",
        "예시\n",
        "\n",
        "m = f1 * f2\n",
        "\n",
        "print(m)\n",
        "\n",
        "참고\n",
        "\n",
        "수 * 수는 곱(multiplication)이 계산된다.\n",
        " \n",
        "\n",
        "입력\n",
        "\n",
        "2개의 실수가 공백으로 구분되어 입력된다.\n",
        " \n",
        "\n",
        "출력\n",
        "\n",
        "첫 번째 실수와 두 번째 실수를 곱한 값을 출력한다.\n",
        " "
      ],
      "metadata": {
        "id": "SxffieHDdJ5N"
      }
    },
    {
      "cell_type": "code",
      "source": [
        "f1=float(input())\n",
        "f2=float(input())\n",
        "f3=f1*f2\n",
        "print(f3)"
      ],
      "metadata": {
        "colab": {
          "base_uri": "https://localhost:8080/"
        },
        "id": "dy5oSZ4Add-1",
        "outputId": "cf539809-0a24-45fb-de21-77678f1c1943"
      },
      "execution_count": 10,
      "outputs": [
        {
          "output_type": "stream",
          "name": "stdout",
          "text": [
            "0.5\n",
            "2.0\n",
            "1.0\n"
          ]
        }
      ]
    },
    {
      "cell_type": "code",
      "source": [
        "f1,f2 = input().split(' ')\n",
        "m=float(f1) * float(f2)\n",
        "print(m)"
      ],
      "metadata": {
        "colab": {
          "base_uri": "https://localhost:8080/"
        },
        "id": "T9pGDkjIek1b",
        "outputId": "c00e2ea9-c351-491b-ca2e-977673ef2c59"
      },
      "execution_count": 9,
      "outputs": [
        {
          "output_type": "stream",
          "name": "stdout",
          "text": [
            "0.5 2.0\n",
            "1.0\n"
          ]
        }
      ]
    },
    {
      "cell_type": "markdown",
      "source": [
        "6036 : [기초-산술연산] 단어 여러번 출력하기\n",
        "\n",
        "단어와 반복 횟수를 입력받아 여러 번 출력해보자.\n",
        "\n",
        "예시\n",
        "\n",
        "w, n = input().split()\n",
        "\n",
        "print(w*int(n))\n",
        "\n",
        "참고\n",
        "\n",
        "문자열 * 정수 또는 정수 * 문자열은 그 문자열을 여러 번 반복한 문자열을 만들어 준다.\n",
        "\n",
        "입력\n",
        "\n",
        "단어와 반복 횟수가 공백으로 구분되어 입력된다.\n",
        "\n",
        "출력\n",
        "\n",
        "입력된 단어를 입력된 횟수만큼 반복해 출력한다.\n"
      ],
      "metadata": {
        "id": "JXrfjRFbfFcV"
      }
    },
    {
      "cell_type": "code",
      "source": [
        "w,n = input().split()\n",
        "print(w*int(n))"
      ],
      "metadata": {
        "colab": {
          "base_uri": "https://localhost:8080/"
        },
        "id": "5CrN-aZjfo8c",
        "outputId": "d5117e60-6ac8-4bcb-ef76-9fe17d19c2f2"
      },
      "execution_count": 11,
      "outputs": [
        {
          "output_type": "stream",
          "name": "stdout",
          "text": [
            "love 3\n",
            "lovelovelove\n"
          ]
        }
      ]
    },
    {
      "cell_type": "markdown",
      "source": [
        "6037 : [기초-산술연산] 문장 여러 번 출력하기\n",
        "\n",
        "\n",
        "반복 횟수와 문장을 입력받아 여러 번 출력해보자.\n",
        "\n",
        "예시\n",
        "\n",
        "n = input()\n",
        "\n",
        "s = input()\n",
        "\n",
        "print(int(n)*s)\n",
        "\n",
        "참고\n",
        "\n",
        "문자열 * 정수 또는 정수 * 문자열은 그 문자열을 여러 번 반복한 문자열을 만들어 준다.\n",
        "\n",
        "입력\n",
        "\n",
        "반복 횟수와 문장이 줄을 바꿔 입력된다.\n",
        "\n",
        "출력\n",
        "\n",
        "입력된 횟수만큼 입력된 문장을 출력한다.\n"
      ],
      "metadata": {
        "id": "guZPWtythIk6"
      }
    },
    {
      "cell_type": "code",
      "source": [
        "n = input()\n",
        "s = input()\n",
        "print(int(n)*s)"
      ],
      "metadata": {
        "colab": {
          "base_uri": "https://localhost:8080/"
        },
        "id": "r78_d7-4hN2E",
        "outputId": "0c96921b-02a7-4df4-c007-63dddfb01e44"
      },
      "execution_count": 13,
      "outputs": [
        {
          "output_type": "stream",
          "name": "stdout",
          "text": [
            "3\n",
            "i love cs\n",
            "i love csi love csi love cs\n"
          ]
        }
      ]
    },
    {
      "cell_type": "markdown",
      "source": [
        "6038 : [기초-산술연산] 정수 2개 입력받아 거듭제곱 계산하기\n",
        "\n",
        "정수 2개(a, b)를 입력받아\n",
        "\n",
        "a를 b번 곱한 거듭제곱을 출력하는 프로그램을 작성해보자.\n",
        "\n",
        "예시\n",
        "\n",
        "c = a**b\n",
        "\n",
        "print(c)\n",
        "\n",
        "참고\n",
        "\n",
        "python 언어에서는 거듭제곱을 계산하는 연산자(**)를 제공한다.\n",
        "\n",
        "일반적으로 수학 식에서 거듭제곱을 표현하는 사용하는 서컴플렉스/케릿 기호(^)는 프로그래밍언어에서 다른 의미로 쓰인다.\n",
        " \n",
        "\n",
        "입력\n",
        "\n",
        "2개의 정수(a, b)가 공백으로 구분되어 입력된다.\n",
        " \n",
        "\n",
        "출력\n",
        "\n",
        "a를 b번 거듭제곱한 값을 출력한다.\n",
        " "
      ],
      "metadata": {
        "id": "71eYsIeHh5Tn"
      }
    },
    {
      "cell_type": "code",
      "source": [
        "a,b=input()\n",
        "c=a**b\n",
        "print(c)"
      ],
      "metadata": {
        "colab": {
          "base_uri": "https://localhost:8080/",
          "height": 227
        },
        "id": "46LHihIjji7e",
        "outputId": "a78c0768-aa1a-4d6c-e319-58e01f9ded05"
      },
      "execution_count": 15,
      "outputs": [
        {
          "name": "stdout",
          "output_type": "stream",
          "text": [
            "2 10\n"
          ]
        },
        {
          "output_type": "error",
          "ename": "ValueError",
          "evalue": "ignored",
          "traceback": [
            "\u001b[0;31m---------------------------------------------------------------------------\u001b[0m",
            "\u001b[0;31mValueError\u001b[0m                                Traceback (most recent call last)",
            "\u001b[0;32m<ipython-input-15-e851d016da35>\u001b[0m in \u001b[0;36m<module>\u001b[0;34m()\u001b[0m\n\u001b[0;32m----> 1\u001b[0;31m \u001b[0ma\u001b[0m\u001b[0;34m,\u001b[0m\u001b[0mb\u001b[0m\u001b[0;34m=\u001b[0m\u001b[0minput\u001b[0m\u001b[0;34m(\u001b[0m\u001b[0;34m)\u001b[0m\u001b[0;34m\u001b[0m\u001b[0;34m\u001b[0m\u001b[0m\n\u001b[0m\u001b[1;32m      2\u001b[0m \u001b[0mc\u001b[0m\u001b[0;34m=\u001b[0m\u001b[0ma\u001b[0m\u001b[0;34m**\u001b[0m\u001b[0mb\u001b[0m\u001b[0;34m\u001b[0m\u001b[0;34m\u001b[0m\u001b[0m\n\u001b[1;32m      3\u001b[0m \u001b[0mprint\u001b[0m\u001b[0;34m(\u001b[0m\u001b[0mc\u001b[0m\u001b[0;34m)\u001b[0m\u001b[0;34m\u001b[0m\u001b[0;34m\u001b[0m\u001b[0m\n",
            "\u001b[0;31mValueError\u001b[0m: too many values to unpack (expected 2)"
          ]
        }
      ]
    },
    {
      "cell_type": "code",
      "source": [
        "a, b = input().split(' ')\n",
        "c = int(a) ** int(b)\n",
        "print(c)"
      ],
      "metadata": {
        "colab": {
          "base_uri": "https://localhost:8080/"
        },
        "id": "x7VJ3ppFkrS-",
        "outputId": "90720eee-8336-4dd3-ed49-0a8efa1e68bf"
      },
      "execution_count": 16,
      "outputs": [
        {
          "output_type": "stream",
          "name": "stdout",
          "text": [
            "2 10\n",
            "1024\n"
          ]
        }
      ]
    },
    {
      "cell_type": "markdown",
      "source": [
        "6039 : [기초-산술연산] 실수 2개 입력받아 거듭제곱 계산하기\n",
        "\n",
        "\n",
        "실수 2개(f1, f2)를 입력받아\n",
        "\n",
        "f1을 f2번 거듭제곱한 값을 출력하는 프로그램을 작성해보자.\n",
        "\n",
        "참고\n",
        "\n",
        "python 언어에서는 거듭제곱(exponentiation)을 계산하는 연산자(**)를 제공한다.\n",
        "\n",
        "일반적으로 수학 식에서 거듭제곱을 표현하는 사용하는 서컴플렉스/케릿 기호(^)는 프로그래밍언어에서 다른 의미로 쓰인다.\n",
        " \n",
        "\n",
        "입력\n",
        "\n",
        "2개의 실수(f1, f2)가 공백으로 구분되어 입력된다.\n",
        " \n",
        "\n",
        "출력\n",
        "\n",
        "f1을 f2번 거듭제곱한 값을 출력한다."
      ],
      "metadata": {
        "id": "v43ji08QlFss"
      }
    },
    {
      "cell_type": "code",
      "source": [
        "a, b = input().split(' ')\n",
        "c = float(a) ** float(b)\n",
        "print(c)"
      ],
      "metadata": {
        "id": "395gTVA5lw3w"
      },
      "execution_count": null,
      "outputs": []
    },
    {
      "cell_type": "markdown",
      "source": [
        "6040 : [기초 - 산술연산] 정수 2개 입력받아 나눈 몫 계산하기\n",
        "\n",
        "\n",
        "정수 2개(a, b) 를 입력받아 a를 b로 나눈 몫을 출력해보자.\n",
        "\n",
        "예시\n",
        "\n",
        "print(a//b)\n",
        "\n",
        "참고\n",
        "\n",
        "python언어에서는 나눈 몫을 계산하는 연산자(//, floor division)를 제공한다.\n",
        "\n",
        "a//b 와 같이 작성하면, a를 b로 나눈 몫(quotient)을 계산해준다.\n",
        "\n",
        "프로그래밍언어에 따라 이렇게 몫을 계산해주는 연산자가 없는 경우도 있다.\n",
        "\n",
        "실수로 나눈 몫이 어떻게 계산될지도 생각해보자.\n",
        "\n",
        "입력\n",
        "\n",
        "2개의 정수(a, b)가 공백으로 구분되어 입력된다.\n",
        "\n",
        "출력\n",
        "\n",
        "a를 b로 나눈 몫을 출력한다.\n"
      ],
      "metadata": {
        "id": "fdr1GMLJnv-A"
      }
    },
    {
      "cell_type": "code",
      "source": [
        "a, b = input().split(' ')\n",
        "c = int(a) // int(b)\n",
        "print(c)"
      ],
      "metadata": {
        "colab": {
          "base_uri": "https://localhost:8080/"
        },
        "id": "7BfhrXI6oIB5",
        "outputId": "fbdbc5db-5eee-461b-d351-c2c8f45d24ca"
      },
      "execution_count": 17,
      "outputs": [
        {
          "output_type": "stream",
          "name": "stdout",
          "text": [
            "10 3\n",
            "3.0\n"
          ]
        }
      ]
    },
    {
      "cell_type": "markdown",
      "source": [
        "6041 : [기초-산술연산] 정수 2개 입력받아 나눈 나머지 계산하기\n",
        "\n",
        "정수 2개(a, b) 를 입력받아 a를 b로 나눈 나머지를 출력해보자.\n",
        "\n",
        "예시\n",
        "\n",
        "print(a%b)\n",
        "\n",
        "참고\n",
        "\n",
        "python 언어에서는 나눈 나머지를 계산하는 연산자(%, remainder)를 제공한다.\n",
        "\n",
        "a%b 와 같이 작성하면, a를 b로 나눈 나머지(remainder)를 계산해준다.\n",
        "\n",
        "나머지 연산(modulus, mod 연산)은 수학자 가우스가 생각해 낸 연산으로,\n",
        "\n",
        "어떤 수를 다른 수로 나누고 난 후 남는 나머지를 계산하는 연산이다.\n",
        "\n",
        "실수로 나눈 나머지가 어떻게 계산될지도 생각해보자.\n",
        "\n",
        "입력\n",
        "\n",
        "2개의 정수(a, b)가 공백으로 구분되어 입력된다.\n",
        "\n",
        "출력\n",
        "\n",
        "a를 b로 나눈 나머지를 출력한다."
      ],
      "metadata": {
        "id": "b4jj6-VrpyAI"
      }
    },
    {
      "cell_type": "code",
      "source": [
        "a, b = input().split(' ')\n",
        "c = int(a) % int(b)\n",
        "print(c)"
      ],
      "metadata": {
        "colab": {
          "base_uri": "https://localhost:8080/"
        },
        "id": "CeVlSiZvqnrz",
        "outputId": "7e099e3c-805f-4c48-8ea2-2f5e60c2ab29"
      },
      "execution_count": 18,
      "outputs": [
        {
          "output_type": "stream",
          "name": "stdout",
          "text": [
            "10 3\n",
            "1\n"
          ]
        }
      ]
    },
    {
      "cell_type": "markdown",
      "source": [
        "6042 : [기초-값변환] 실수 1개 입력받아 소숫점이하 자리 변환하기\n",
        "\n",
        "\n",
        "실수 1개를 입력받아\n",
        "\n",
        "소숫점 이하 두 번째 자리까지의 정확도로 반올림한 값을 출력해보자.\n",
        "\n",
        "\n",
        "예시\n",
        "\n",
        "a=input()\n",
        "\n",
        "a=float(a)\n",
        "\n",
        "print( format(a, \".2f\") )\n",
        "\n",
        "\n",
        "참고\n",
        "\n",
        "format(수, \".2f\") 를 사용하면 원하는 자리까지의 정확도로 반올림 된 실수 값을 만들어 준다. \n",
        "\n",
        "여기서 만들어진 값은 소수점 아래 3번째 자리에서 반올림한 값이다.\n",
        "\n",
        "컴퓨터 프로그래밍에서 실수 변환이나 실수를 사용하는 계산은\n",
        "\n",
        "정확하게 변환되거나 계산되는 것이 아니라, 거의 모두 근사값으로 계산되는 것이라고 할 수 있다. \n",
        "\n",
        "실수가 컴퓨터로 저장되기 위해서는 디지털방식으로 2진 정수화되어 저장되어야 하는데,\n",
        "\n",
        "그 과정에서 아주 작은 부분이 저장되지 않고 사라지는 잘림(truncation) 오차가 자주 발생하기 때문이다.\n",
        "\n",
        "입력\n",
        "\n",
        "실수 1개가 입력된다.\n",
        " \n",
        "\n",
        "출력\n",
        "\n",
        "소숫점 이하 두 번째 자리까지의 정확도로 반올림한 값을 출력한다. "
      ],
      "metadata": {
        "id": "6Atdet46rYzI"
      }
    },
    {
      "cell_type": "code",
      "source": [
        "a=input()\n",
        "a=float(a)\n",
        "print(format(a,\".2f\"))"
      ],
      "metadata": {
        "colab": {
          "base_uri": "https://localhost:8080/"
        },
        "id": "7DY8qOugr3NL",
        "outputId": "5e3a1574-720c-48af-ec90-3b248404c4bb"
      },
      "execution_count": 19,
      "outputs": [
        {
          "output_type": "stream",
          "name": "stdout",
          "text": [
            "3.14159225\n",
            "3.14\n"
          ]
        }
      ]
    },
    {
      "cell_type": "markdown",
      "source": [
        "6043 : [기초-산술연산] 실수 2개 입력받아 나눈 결과 계산하기\n",
        "\n",
        "실수 2개(f1, f2)를 입력받아\n",
        "\n",
        "f1 을 f2 로 나눈 값을 출력해보자. 이 때 소숫점 넷째자리에서 반올림하여 무조건 소숫점 셋째 자리까지 출력한다.\n",
        "\n",
        "참고\n",
        "\n",
        "python 언어에는 나눗셈(division)을 계산하는 연산자(/)가 있다.\n",
        "\n",
        "컴퓨터 프로그래밍에서 실수 변환이나 실수를 사용하는 계산은 \n",
        "\n",
        "정확하게 변환되거나 계산되는 것이 아니라, 거의 모두 근사값으로 계산되는 것이라고 할 수 있다.  \n",
        "\n",
        "실수가 컴퓨터로 저장되기 위해서는 디지털방식으로 2진 정수화되어 저장되어야 하는데, \n",
        "\n",
        "그 과정에서 아주 작은 부분이 저장되지 않고 사라지는 잘림(truncation) 오차가 자주 발생하기 때문이다.\n",
        "\n",
        "계산 결과값 중에서 믿을 수 있는 숫자의 개수를 의미하는, 유효숫자에 대해 찾아보자. \n",
        "\n",
        "과학실험에서 온도나 부피를 측정할 때에도 유효숫자는 중요하다. \n",
        "\n",
        "입력\n",
        "\n",
        "2개의 실수(f1, f2)가 공백으로 구분되어 입력된다.\n",
        " \n",
        "출력\n",
        "\n",
        "f1을 f2로 나눈 결과를 소숫점 이하 넷째 자리에서 반올림하여 소숫점 세 번째 자리까지 출력한다."
      ],
      "metadata": {
        "id": "MHSovmzssIjE"
      }
    },
    {
      "cell_type": "code",
      "source": [
        "f1,f2=input().split(' ')\n",
        "c=float(f1)/float(f2)\n",
        "print(format(c,\".3f\"))"
      ],
      "metadata": {
        "colab": {
          "base_uri": "https://localhost:8080/"
        },
        "id": "Y5-UQ_ZWtV_B",
        "outputId": "9ff11e21-6a56-4b39-9ba0-6154accf56c2"
      },
      "execution_count": 25,
      "outputs": [
        {
          "output_type": "stream",
          "name": "stdout",
          "text": [
            "10.0 3.0\n",
            "3.333\n"
          ]
        }
      ]
    },
    {
      "cell_type": "markdown",
      "source": [
        "6044 : [기초-산술연산] 정수 2개 입력받아 자동 계산하기\n",
        "\n",
        "\n",
        "정수 2개(a, b)를 입력받아 합, 차, 곱, 몫, 나머지, 나눈 값을 자동으로 계산해보자.\n",
        "\n",
        "단, b는 0이 아니다.\n",
        "\n",
        "입력\n",
        "\n",
        "정수 2개가 공백을 두고 입력된다.\n",
        " \n",
        "출력\n",
        "\n",
        "첫 번째 줄에 합\n",
        "\n",
        "두 번째 줄에 차,\n",
        "\n",
        "세 번째 줄에 곱,\n",
        "\n",
        "네 번째 줄에 몫,\n",
        "\n",
        "다섯 번째 줄에 나머지,\n",
        "\n",
        "여섯 번째 줄에 나눈 값을 순서대로 출력한다.\n",
        "\n",
        "(실수, 소수점 이하 둘째 자리까지의 정확도로 출력)"
      ],
      "metadata": {
        "id": "SQGJbfiktode"
      }
    },
    {
      "cell_type": "code",
      "source": [
        "a,b=input().split(' ')\n",
        "c=int(a) +,-,*,/,%,// int(b)\n",
        "print(c.format(c,\"3f\"))\n",
        "# print()\n",
        "# print()\n",
        "# print()\n",
        "# print()\n",
        "# print()\n"
      ],
      "metadata": {
        "colab": {
          "base_uri": "https://localhost:8080/",
          "height": 136
        },
        "id": "-jPeYdYIvOz8",
        "outputId": "f0157ef2-5192-4abf-8f58-27f6c124459f"
      },
      "execution_count": 28,
      "outputs": [
        {
          "output_type": "error",
          "ename": "SyntaxError",
          "evalue": "ignored",
          "traceback": [
            "\u001b[0;36m  File \u001b[0;32m\"<ipython-input-28-834de36431a9>\"\u001b[0;36m, line \u001b[0;32m2\u001b[0m\n\u001b[0;31m    c=int(a) +,-,*,/,%,// int(b)\u001b[0m\n\u001b[0m              ^\u001b[0m\n\u001b[0;31mSyntaxError\u001b[0m\u001b[0;31m:\u001b[0m invalid syntax\n"
          ]
        }
      ]
    },
    {
      "cell_type": "code",
      "source": [
        "a,b=input().split(' ')\n",
        "print(int(a)+int(b))\n",
        "print(int(a)-int(b))\n",
        "print(int(a)*int(b))\n",
        "print(int(a)//int(b))\n",
        "print(int(a)%int(b))\n",
        "print(format(int(a)/int(b),\".2f\"))"
      ],
      "metadata": {
        "colab": {
          "base_uri": "https://localhost:8080/"
        },
        "id": "yR2WoNPkv47U",
        "outputId": "caa450d7-7a5c-4810-a347-e91ed612d376"
      },
      "execution_count": 3,
      "outputs": [
        {
          "output_type": "stream",
          "name": "stdout",
          "text": [
            "10 3\n",
            "13\n",
            "7\n",
            "30\n",
            "3\n",
            "1\n",
            "3.33\n"
          ]
        }
      ]
    },
    {
      "cell_type": "code",
      "source": [
        ""
      ],
      "metadata": {
        "id": "Ssh60nj9xMBf"
      },
      "execution_count": null,
      "outputs": []
    }
  ]
}