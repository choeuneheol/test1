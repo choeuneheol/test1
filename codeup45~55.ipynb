{
  "nbformat": 4,
  "nbformat_minor": 0,
  "metadata": {
    "colab": {
      "name": "codeup45~55.ipynb",
      "provenance": [],
      "authorship_tag": "ABX9TyP+yTiYWleOCfTkBYpvjNxh",
      "include_colab_link": true
    },
    "kernelspec": {
      "name": "python3",
      "display_name": "Python 3"
    },
    "language_info": {
      "name": "python"
    }
  },
  "cells": [
    {
      "cell_type": "markdown",
      "metadata": {
        "id": "view-in-github",
        "colab_type": "text"
      },
      "source": [
        "<a href=\"https://colab.research.google.com/github/choeuneheol/test1/blob/main/codeup45~55.ipynb\" target=\"_parent\"><img src=\"https://colab.research.google.com/assets/colab-badge.svg\" alt=\"Open In Colab\"/></a>"
      ]
    },
    {
      "cell_type": "markdown",
      "source": [
        "#6045 : [기초-산술연산] 정수 3개 입력받아 합과 평균 출력하기\n",
        "\n",
        "정수 3개를 입력받아 합과 평균을 출력해보자.\n",
        "\n",
        "참고\n",
        "공백으로 구분된 한 줄로 값들을 입력받기 위해서는\n",
        "a, b, c = input().split()\n",
        "과 같은 방법이 가능하고,\n",
        "\n",
        "공백으로 구분해 두 값을 출력하기 위해서는\n",
        "print(d, e)\n",
        "와 같은 방법이 가능하다.\n",
        "\n",
        "잘라낸 값들은 그 값의 특성(정수, 실수, 문자, 문자열 ...)에 따라 명확하게 변환시킨 후 사용하는 것이 좋다.\n",
        "\n",
        "python 프로그래밍을 처음 배울 때 좋은 습관(단계)\n",
        "1. 입력된 문자열을 정확하게 잘라낸다.(공백, 줄바꿈, 구분문자 등에 따라 정확하게 잘라낸다.)\n",
        "2. 잘라낸 데이터들을 데이터형에 맞게 변환해 변수에 저장한다. (정수, 실수, 문자, 문자열 등에 따라 정확하게 변환한다.)\n",
        "3. 값을 저장했다가 다시 사용하기 위해, 변수를 이용해 값을 저장하고, 변수를 이용해 계산을 한다.\n",
        "4. 원하는 결과 값을 필요한 형태로 만들어 출력한다.(공백, 줄바꿈, 구분자, 등에 따라 원하는 형태로 만들어 출력한다.)"
      ],
      "metadata": {
        "id": "IEOvlOEUJFk6"
      }
    },
    {
      "cell_type": "code",
      "source": [
        "a,b,c =input().split()\n",
        "a=int(a)\n",
        "b=int(b)\n",
        "c=int(c)\n",
        "hap=a+b+c\n",
        "avg=hap/3\n",
        "print(hap,format(avg,\".2f\"))\n"
      ],
      "metadata": {
        "id": "d0gCcE-fUzlA"
      },
      "execution_count": null,
      "outputs": []
    },
    {
      "cell_type": "markdown",
      "source": [
        "#6046 : [기초-비트시프트연산] 정수 1개 입력받아 2배 곱해 출력하기\n",
        "\n",
        "\n",
        "정수 1개를 입력받아 2배 곱해 출력해보자.\n",
        "\n",
        "참고\n",
        "*2 를 계산한 값을 출력해도 되지만,\n",
        "정수를 2배로 곱하거나 나누어 계산해 주는 비트단위시프트연산자 <<, >>를 이용할 수 있다.\n",
        "컴퓨터 내부에는 2진수 형태로 값들이 저장되기 때문에,\n",
        "2진수 형태로 저장되어 있는 값들을 왼쪽(<<)이나 오른쪽(>>)으로\n",
        "지정한 비트 수만큼 밀어주면 2배씩 늘어나거나 1/2로 줄어드는데,\n",
        "\n",
        "왼쪽 비트시프트(<<)가 될 때에는 오른쪽에 0이 주어진 개수만큼 추가되고,\n",
        "오른쪽 비트시프트(>>)가 될 때에는 왼쪽에 0(0 또는 양의 정수인 경우)이나 1(음의 정수인 경우)이 개수만큼 추가되고,\n",
        "가장 오른쪽에 있는 1비트는 사라진다.\n",
        "\n",
        "예시\n",
        "n = 10\n",
        "print(n<<1)  #10을 2배 한 값인 20 이 출력된다.\n",
        "print(n>>1)  #10을 반으로 나눈 값인 5 가 출력된다.\n",
        "print(n<<2)  #10을 4배 한 값인 40 이 출력된다.\n",
        "print(n>>2)  #10을 반으로 나눈 후 다시 반으로 나눈 값인 2 가 출력된다.\n",
        "\n",
        "정수 10의 2진수 표현은 ... 1010 이다.\n",
        "10 << 1 을 계산하면 ... 10100 이 된다 이 값은 10진수로 20이다.\n",
        "10 >> 1 을 계산하면 ... 101 이 된다. 이 값은 10진수로 5이다.\n",
        "\n",
        "n = 10 과 같이 키보드로 입력받지 않고 직접 작성해 넣은 코드에서, 숫자로 시작하는 단어(식별자, identifier)는 자동으로 수로 인식된다.  \n",
        "\n",
        "n = 10 에서 10 은 10진수 정수 값으로 인식된다.\n",
        "변수 n 에 문자열을 저장하고 싶다면, n = \"10\" 또는 n = '10'으로 작성해 넣으면 되고,\n",
        "\n",
        "n = 10.0 으로 작성해 넣으면 자동으로 실수 값으로 저장된다.\n",
        "n = 0o10 으로 작성해 넣으면 8진수(octal) 10으로 인식되어 10진수 8값이 저장되고,\n",
        "n = 0xf 나 n = 0XF 으로 작성해 넣으면 16진수(hexadecimal) F로 인식되어 10진수 15값으로 저장된다.\n",
        "\n",
        "** python에서 실수 값에 대한 비트시프트 연산은 허용되지 않고 오류가 발생한다.\n",
        "(실수 값도 컴퓨터 내부적으로는 2진수 형태로 저장되고 비트시프트 처리가 될 수 있지만, python 에서는 허용하지 않는다.)"
      ],
      "metadata": {
        "id": "t93Ssr1lcwCu"
      }
    },
    {
      "cell_type": "code",
      "source": [
        "#내가 생각한 답안\n",
        "n=input()\n",
        "n=int()*2\n",
        "print(n<<1)\n",
        "\n",
        "\n",
        "#답안\n",
        "n=int(input())\n",
        "print(n<<1)"
      ],
      "metadata": {
        "colab": {
          "base_uri": "https://localhost:8080/"
        },
        "id": "aMC8Fl4LW64T",
        "outputId": "5a6f7b9f-8aca-4ccc-f0c0-1ddb59c7c10f"
      },
      "execution_count": 22,
      "outputs": [
        {
          "output_type": "stream",
          "name": "stdout",
          "text": [
            "1024\n",
            "0\n",
            "1024\n",
            "2048\n"
          ]
        }
      ]
    },
    {
      "cell_type": "markdown",
      "source": [
        "#6047 : [기초-비트시프트연산] 2의 거듭제곱 배로 곱해 출력하기\n",
        "\n",
        "정수 2개(a, b)를 입력받아 a를 2b배 곱한 값으로 출력해보자.\n",
        "0 <= a <= 10, 0 <= b <= 10\n",
        "\n",
        "예시\n",
        "a = 2\n",
        "b = 10\n",
        "print(a << b)  #210 = 1024 가 출력된다.\n",
        "\n",
        "참고\n",
        "예를 들어 1 3 이 입력되면 1을 23(8)배 하여 출력한다."
      ],
      "metadata": {
        "id": "9bX9UR4Xb6aB"
      }
    },
    {
      "cell_type": "code",
      "source": [
        "# #내가 생각한 답안\n",
        "# a=int(input())\n",
        "# b=int(input())\n",
        "# print(a<<b)\n",
        "\n",
        "#답안\n",
        "a,b = input().split()\n",
        "a=int(a)\n",
        "b=int(b)\n",
        "print(a<<b)"
      ],
      "metadata": {
        "id": "aBkhnv-RdUop"
      },
      "execution_count": null,
      "outputs": []
    },
    {
      "cell_type": "markdown",
      "source": [
        "#6048 : [기초-비교연산] 정수 2개 입력받아 비교하기1\n",
        "\n",
        "\n",
        "두 정수(a, b)를 입력받아\n",
        "a가 b보다 작으면 True 를, a가 b보다 크거나 같으면 False 를 출력하는 프로그램을 작성해보자.\n",
        "\n",
        "예시\n",
        "print(123<456)  #비교 연산자 < 의 계산 결과인 True(참)가 출력된다.\n",
        "(123, 456 은 숫자로 작성된 단어이기 때문에 10진수로 인식된다.)\n",
        "\n",
        "참고\n",
        "어떤 값을 비교하기 위해 비교/관계(comparison/relational) 연산자(operator)를 사용할 수 있다.\n",
        "\n",
        "비교/관계연산자 < (less than sign) 는\n",
        "왼쪽의 값이 오른쪽 값 보다 작은 경우 True(참)로 계산하고,\n",
        "그 외의 경우에는 False(거짓)로 계산한다.\n",
        "\n",
        "비교/관계연산자도 일반적인 사칙연산자처럼 주어진 두 수를 이용해 계산을 수행하고,\n",
        "그 결과를 True(참), 또는 False(거짓)로 계산해 주는 연산자이다.\n",
        "\n",
        "비교/관계연산자는 <, >, <=, >=, ==(같다), !=(다르다) 6개가 있다.\n",
        "\n",
        "True(참) 또는 False(거짓) 값으로만 표현하고 저장하는 값을 불(bool)/불리언(boolean) 값이라고 한다.\n",
        "정수, 실수, 문자, 문자열과 마찬가지로 또 다른 형태의 데이터형(data type)이다.\n"
      ],
      "metadata": {
        "id": "o_zk5BSMduV4"
      }
    },
    {
      "cell_type": "code",
      "source": [
        "#내가 생각한 답안\n",
        "a=(int(input()))\n",
        "b=(int(input()))\n",
        "print(a<b)\n",
        "# \n",
        "#답안\n",
        "a, b = input().split()\n",
        "a = int(a)\n",
        "b = int(b)\n",
        "print(a<b)"
      ],
      "metadata": {
        "id": "4O_Fsdo0e7eF"
      },
      "execution_count": null,
      "outputs": []
    },
    {
      "cell_type": "markdown",
      "source": [
        "#6049 : [기초-비교연산] 정수 개 입력받아 비교하기2\n",
        "\n",
        "\n",
        "두 정수(a, b)를 입력받아\n",
        "a와 b의 값이 같으면 True 를, 같지 않으면 False 를 출력하는 프로그램을 작성해보자.\n",
        "\n",
        "참고\n",
        "어떤 값을 비교하기 위해 비교/관계(comparison/relational) 연산자(operator)를 사용할 수 있다.\n",
        "\n",
        "비교/관계연산자 == (equal sign 2개) 는\n",
        "왼쪽의 계산 결과값과 오른쪽의 계산 결과값이 같은 경우 True(참)로 계산하고,\n",
        "그 외의 경우에는 False(거짓)로 계산한다.\n",
        "\n",
        "비교/관계연산자도 일반적인 사칙연산자처럼 주어진 두 수를 이용해 계산을 수행하고,\n",
        "그 결과를 True(참), 또는 False(거짓)로 계산해 주는 연산자이다.\n",
        "\n",
        "비교/관계연산자는 <, >, <=, >=, ==(같다), !=(다르다) 6개가 있다.\n",
        "\n",
        "** 수학에서 왼쪽과 오른쪽의 계산 결과가 같음(동치)을 나타내는 기호 =(equal sign) 1개는\n",
        "프로그래밍언어에서는 전혀 다른 의미로 사용된다.\n",
        "\n",
        "a = 1 와 같은 표현은 a와 1의 값이 같다는 의미가 아니라\n",
        "오른쪽의 계산 결과값인 1을 왼쪽의 변수 a에 저장하라는 의미이다."
      ],
      "metadata": {
        "id": "5SJq52UHfUdN"
      }
    },
    {
      "cell_type": "code",
      "source": [
        "#내가 생각한 답안\n",
        "# a=int(input())\n",
        "# b=int(input())\n",
        "# print(a == b)\n",
        "\n",
        "#답안\n",
        "\n",
        "a,b = input().split()\n",
        "a=int(a)\n",
        "b=int(b)\n",
        "print(a==b)"
      ],
      "metadata": {
        "id": "6-OykFZ9fhJU"
      },
      "execution_count": null,
      "outputs": []
    },
    {
      "cell_type": "markdown",
      "source": [
        "#6050 : [기초-비교연산] 정수 2개 입력받아 비교하기3\n",
        "\n",
        "두 정수(a, b)를 입력받아\n",
        "b의 값이 a의 값 보다 크거나 같으면 True 를, 같지 않으면 False 를 출력하는 프로그램을 작성해보자.\n",
        "\n",
        "참고\n",
        "어떤 값을 비교하기 위해 비교/관계(comparison/relational) 연산자(operator)를 사용할 수 있다.\n",
        "\n",
        "비교/관계연산자 <= 는\n",
        "오른쪽의 계산 결과값이 왼쪽의 계산 결과값보다 크거나 같은 경우 True(참)로 계산하고,\n",
        "그 외의 경우에는 False(거짓)로 계산한다.\n",
        "\n",
        "<=, >= 연산자는 같음(==)을 포함한다. 따라서 “작다/크다” 거나 \"같다”는 의미를 가진다.\n",
        "작다(<)/크다(>)/다르다(!) 기호는 등호(=)와 함께 왼쪽에 붙여써야 한다.\n",
        "\n",
        "비교/관계연산자도 일반적인 사칙연산자처럼 주어진 두 수를 이용해 계산을 수행하고,\n",
        "그 결과를 True(참), 또는 False(거짓)로 계산해주는 연산자이다.\n",
        "비교/관계연산자는 <, >, <=, >=, ==(같다), !=(다르다) 6개가 있다."
      ],
      "metadata": {
        "id": "3BtlWZsTg7I5"
      }
    },
    {
      "cell_type": "code",
      "source": [
        "#내가 생각한 답안\n",
        "a=int(input())\n",
        "b=int(input())\n",
        "print(a == b)\n",
        "\n",
        "\n",
        "#답안\n",
        "a, b = input().split()\n",
        "a = int(a)\n",
        "b = int(b)\n",
        "print(a<=b)"
      ],
      "metadata": {
        "colab": {
          "base_uri": "https://localhost:8080/"
        },
        "id": "H_h2sfIbix1S",
        "outputId": "ef24a50e-ec5d-49cf-aa93-c06e43daf5ac"
      },
      "execution_count": 50,
      "outputs": [
        {
          "output_type": "stream",
          "name": "stdout",
          "text": [
            "1\n",
            "1\n",
            "True\n"
          ]
        }
      ]
    },
    {
      "cell_type": "markdown",
      "source": [
        "#6051 : [기초-비교연산] 정수 2개 입력받아 비교하기4\n",
        "\n",
        "두 정수(a, b)를 입력받아\n",
        "a의 값이 b의 값과 서로 다르면 True 를, 같으면 False 를 출력하는 프로그램을 작성해보자.\n",
        "\n",
        "참고\n",
        "어떤 값을 비교하기 위해 비교/관계(comparison/relational) 연산자(operator)를 사용할 수 있다.\n",
        "\n",
        "비교/관계연산자 != 는\n",
        "왼쪽의 계산 결과값이 오른쪽의 계산 결과값이 서로 다른 경우 True(참)로 계산하고,\n",
        "그 외의 경우에는 False(거짓)로 계산한다.\n",
        "\n",
        "비교/관계연산자도 일반적인 사칙연산자처럼 주어진 두 수를 이용해 계산을 수행하고,\n",
        "그 결과를 True(참), 또는 False(거짓)로 계산해주는 연산자이다.\n",
        "비교/관계연산자는 <, >, <=, >=, ==(같다), !=(다르다) 6개가 있다."
      ],
      "metadata": {
        "id": "LRT6olJsu249"
      }
    },
    {
      "cell_type": "code",
      "source": [
        "# 내가 생각한 답안\n",
        "a=int(input())\n",
        "b=int(input())\n",
        "print(a != b)\n",
        "\n",
        "#답안\n",
        "a, b = input().split()\n",
        "a = int(a)\n",
        "b = int(b)\n",
        "print(a!=b)"
      ],
      "metadata": {
        "colab": {
          "base_uri": "https://localhost:8080/"
        },
        "id": "piCeq9SSxbdc",
        "outputId": "9a3d6ee1-40e2-4f90-954d-ad85ad85f8d0"
      },
      "execution_count": 52,
      "outputs": [
        {
          "output_type": "stream",
          "name": "stdout",
          "text": [
            "1\n",
            "2\n",
            "True\n"
          ]
        }
      ]
    },
    {
      "cell_type": "markdown",
      "source": [
        "#6052 : [기초-논리연산] 정수 입력받아 참 거짓 평가하기\n",
        "\n",
        "\n",
        "정수가 입력되었을 때, True/False 로 평가해주는 프로그램을 작성해보자.\n",
        "\n",
        "예시\n",
        "n = int(input())\n",
        "print(bool(n))\n",
        "\n",
        "참고\n",
        "bool( ) 을 이용하면 입력된 식이나 값을 평가해 불 형의 값(True 또는 False)을 출력해준다.\n",
        "식이나 값을 계산해서 결과값이 만들어지는 것을 평가(evaluate)라고 한다. \n",
        "\n",
        "python 언어에서 정수값 0은 False(거짓)로 평가되고, 그 외의 값들은 모두 True(참)로 평가된다.\n",
        "** 불 대수(boolean algebra)는 수학자 불이 만들어낸 것으로 True(참)/False(거짓) 값만 가지는 논리값과 그 값들 사이의 연산을 다룬다."
      ],
      "metadata": {
        "id": "WzC7C1nxxjd6"
      }
    },
    {
      "cell_type": "code",
      "source": [
        "#내가 생각한 답안\n",
        "n=int(input())\n",
        "print(bool(n))\n",
        "\n",
        "#답안\n",
        "n=int(input())\n",
        "print(bool(n))"
      ],
      "metadata": {
        "colab": {
          "base_uri": "https://localhost:8080/"
        },
        "id": "po_KeAKTyGYy",
        "outputId": "d957265d-f6d7-4bfb-8262-3e5eee36177b"
      },
      "execution_count": 53,
      "outputs": [
        {
          "output_type": "stream",
          "name": "stdout",
          "text": [
            "0\n",
            "False\n"
          ]
        }
      ]
    },
    {
      "cell_type": "markdown",
      "source": [
        "#6053 : [기초-논리연산] 참 거짓 바꾸기\n",
        "\n",
        "정수값이 입력될 때,\n",
        "그 불 값을 반대로 출력하는 프로그램을 작성해보자.\n",
        "\n",
        "예시\n",
        "a = bool(int(input()))\n",
        "print(not a)\n",
        "\n",
        "참고\n",
        "a = bool(int(input()))\n",
        "와 같은 형태로 겹쳐 작성하면, 한 번에 한 단계씩 계산/처리/평가된다.\n",
        "위와 같은 명령문의 경우 input( ), int( ), bool( ) 순서로 한 번에 한 단계씩 계산/처리/평가된다.\n",
        "\n",
        "어떤 불 값이나 변수에 not True, not False, not a 와 같은 계산이 가능하다.\n",
        "\n",
        "참 또는 거짓의 논리값을 역(반대)으로 바꾸기 위해서 not 예약어(reserved word, keyword)를 사용할 수 있다.\n",
        "\n",
        "이러한 논리연산을 NOT 연산(boolean NOT)이라고도 부르고,\n",
        "프라임 '(문자 오른쪽 위에 작은 따옴표), 바(기호 위에 가로 막대), 문자 오른쪽 위에 c(여집합, complement) 등으로 표시한다.\n",
        "모두 같은 의미이다.\n",
        "\n",
        "참, 거짓의 논리값 인 불(boolean) 값을 다루어주는 예약어는 not, and, or 이 있고,\n",
        "불 값들 사이의 논리(not, and, or) 연산 결과도 마찬가지로 True 또는 False 의 불 값으로 계산 된다.\n",
        "\n",
        "정수값 0은 False 이고, 나머지 정수 값들은 True 로 평가된다.\n",
        "빈 문자열 \"\" 나 ''는 False 이고, 나머지 문자열들은 True 로 평가된다.\n",
        "\n",
        "** 불 대수(boolean algebra)는 수학자 불이 만들어낸 것으로 True(참)/False(거짓) 값만 가지는 논리값과 그 값들 사이의 연산을 다룬다."
      ],
      "metadata": {
        "id": "Ae941TIOyUGE"
      }
    },
    {
      "cell_type": "code",
      "source": [
        "#내가 생각한 답안\n",
        "# n=bool(int(input()))\n",
        "# print(n)\n",
        "\n",
        "#답안\n",
        "a = bool(int(input()))\n",
        "print(not a)"
      ],
      "metadata": {
        "colab": {
          "base_uri": "https://localhost:8080/"
        },
        "id": "oZKtm5vLyu68",
        "outputId": "75eeb6b6-c578-41e0-e073-f8d325ebbde6"
      },
      "execution_count": 56,
      "outputs": [
        {
          "output_type": "stream",
          "name": "stdout",
          "text": [
            "1\n",
            "False\n"
          ]
        }
      ]
    },
    {
      "cell_type": "markdown",
      "source": [
        "#6054 : [기초-논리연산] 둘다 참일 경우만 참 출력하기\n",
        "\n",
        "2개의 정수값이 입력될 때,\n",
        "그 불 값이 모두 True 일 때에만 True 를 출력하는 프로그램을 작성해보자.\n",
        "\n",
        "예시\n",
        "a, b = input().split()\n",
        "print(bool(int(a)) and bool(int(b)))\n",
        "\n",
        "참고\n",
        "and 예약어는 주어진 두 불 값이 모두 True 일 때에만 True 로 계산하고, 나머지 경우는 False 로 계산한다.\n",
        "이러한 논리연산을 AND 연산(boolean AND)이라고도 부르고, · 으로 표시하거나 생략하며, 집합 기호 ∩(교집합, intersection)로 표시하기도 한다. \n",
        "모두 같은 의미이다.\n",
        "\n",
        "참, 거짓의 논리값 인 불(boolean) 값을 다루어주는 예약어는 not, and, or 이 있고,\n",
        "불 값들 사이의 논리(not, and, or) 연산 결과도 마찬가지로 True 또는 False 의 불 값으로 계산된다.\n",
        "\n",
        "** 불 대수(boolean algebra)는 수학자 불이 만들어낸 것으로 True(참)/False(거짓) 값만 가지는 논리값과 그 값들 사이의 연산을 다룬다.\n"
      ],
      "metadata": {
        "id": "Q-0cmqmdzAs4"
      }
    },
    {
      "cell_type": "code",
      "source": [
        "#내가 생각한 답안\n",
        "a=int(input())\n",
        "b=int(input())\n",
        "print(a==b)\n",
        "\n",
        "# 답안\n",
        "a, b = input().split()\n",
        "print(bool(int(a))and bool(int(b)))"
      ],
      "metadata": {
        "colab": {
          "base_uri": "https://localhost:8080/"
        },
        "id": "J2_MAU9Pzwo3",
        "outputId": "df79f2e7-f304-4784-d745-ac686a8f8749"
      },
      "execution_count": 63,
      "outputs": [
        {
          "output_type": "stream",
          "name": "stdout",
          "text": [
            "1\n",
            "2\n",
            "False\n"
          ]
        }
      ]
    },
    {
      "cell_type": "markdown",
      "source": [
        "# 6055 : [기초-논리연산] 하나라도 참이면 참 출력하기\n",
        "\n",
        "2개의 정수값이 입력될 때,\n",
        "그 불 값이 하나라도 True 일 때에만 True 를 출력하는 프로그램을 작성해보자.\n",
        "\n",
        "참고\n",
        "or 예약어는 주어진 두 불 값 중에서 하나라도 True 이면 True 로 계산하고, 나머지 경우는 False 로 계산한다.\n",
        "이러한 논리연산을 OR 연산(boolean OR)이라고도 부르고, + 로 표시하거나, 집합 기호 ∪(합집합, union)로 표시하기도 한다.\n",
        "모두 같은 의미이다.\n",
        "\n",
        "참, 거짓의 논리값 인 불(boolean) 값을 다루어주는 예약어는 not, and, or 이 있고,\n",
        "불 값들 사이의 논리(not, and, or) 연산 결과도 마찬가지로 True 또는 False 의 불 값으로 계산된다.\n",
        "\n",
        "** 불 대수(boolean algebra)는 수학자 불이 만들어낸 것으로 True(참)/False(거짓) 값만 가지는 논리값과 그 값들 사이의 연산을 다룬다."
      ],
      "metadata": {
        "id": "7gRIAe0F0keR"
      }
    },
    {
      "cell_type": "code",
      "source": [
        "#내가 생각한 답안\n",
        "a=int(input())\n",
        "b=int(input())\n",
        "print(a==b)\n",
        "\n",
        "\n",
        "#답안\n",
        "a, b = input().split()\n",
        "print(bool(int(a))or bool(int(b)))"
      ],
      "metadata": {
        "id": "I8TkR0Mx1rum"
      },
      "execution_count": null,
      "outputs": []
    },
    {
      "cell_type": "code",
      "source": [
        ""
      ],
      "metadata": {
        "id": "Vk1Juo6918_g"
      },
      "execution_count": null,
      "outputs": []
    }
  ]
}